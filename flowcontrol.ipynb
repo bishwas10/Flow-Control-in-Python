{
 "cells": [
  {
   "cell_type": "markdown",
   "id": "d686d56f-3cf3-459c-bde1-af2284ddb980",
   "metadata": {},
   "source": [
    "if statement\n"
   ]
  },
  {
   "cell_type": "code",
   "execution_count": 2,
   "id": "e4ec6167-912c-4b5d-b312-a5b421870df5",
   "metadata": {},
   "outputs": [],
   "source": [
    "#syntax:\n",
    "# if condition:\n",
    "    #statement1\n",
    "    #statement2"
   ]
  },
  {
   "cell_type": "code",
   "execution_count": 3,
   "id": "05a04375-9e31-428e-907e-44274561f7e9",
   "metadata": {},
   "outputs": [],
   "source": [
    "# for loop\n",
    "# for loop can interate over a sequence of iterable objects in python . "
   ]
  },
  {
   "cell_type": "code",
   "execution_count": 4,
   "id": "a076b2c2-7dea-4f1a-b200-59e3ae7d6c72",
   "metadata": {},
   "outputs": [
    {
     "name": "stdout",
     "output_type": "stream",
     "text": [
      "B ,i ,s ,h ,w ,a ,s ,"
     ]
    }
   ],
   "source": [
    "name = \"Bishwas\"\n",
    "for i in name :\n",
    "    print (i,end = \" ,\")"
   ]
  },
  {
   "cell_type": "code",
   "execution_count": 5,
   "id": "a2c5e22b-9ccb-47f6-bf48-b439f13775eb",
   "metadata": {},
   "outputs": [
    {
     "name": "stdout",
     "output_type": "stream",
     "text": [
      "Red\n",
      "Green\n",
      "Blue\n",
      "Yellow\n"
     ]
    }
   ],
   "source": [
    "colors = [\"Red\", \"Green\",\"Blue\",\"Yellow\"]\n",
    "for color in colors:\n",
    "    print (color)"
   ]
  },
  {
   "cell_type": "code",
   "execution_count": 6,
   "id": "64eccfc2-6e37-45e9-8982-c5dfe69ca804",
   "metadata": {},
   "outputs": [
    {
     "name": "stdout",
     "output_type": "stream",
     "text": [
      "0\n",
      "1\n",
      "2\n",
      "3\n",
      "4\n"
     ]
    }
   ],
   "source": [
    "for k in range(5):\n",
    "    print(k)"
   ]
  },
  {
   "cell_type": "code",
   "execution_count": 7,
   "id": "af898b6c-f1d5-4a92-a9f1-104f14aa2192",
   "metadata": {},
   "outputs": [
    {
     "name": "stdout",
     "output_type": "stream",
     "text": [
      "1\n",
      "2\n",
      "3\n",
      "4\n",
      "5\n"
     ]
    }
   ],
   "source": [
    "for k in range(5):\n",
    "    print(k+1)"
   ]
  },
  {
   "cell_type": "code",
   "execution_count": 8,
   "id": "8a4528e5-4550-4499-b277-e8c166b202fe",
   "metadata": {},
   "outputs": [],
   "source": [
    "# Loops are used to repeat instructions"
   ]
  },
  {
   "cell_type": "code",
   "execution_count": 9,
   "id": "1822f103-545a-4011-9cb6-f65baa798d06",
   "metadata": {},
   "outputs": [
    {
     "name": "stdout",
     "output_type": "stream",
     "text": [
      "Hello\n"
     ]
    }
   ],
   "source": [
    "print (\"Hello\")"
   ]
  },
  {
   "cell_type": "code",
   "execution_count": 10,
   "id": "975ba7c6-ef84-4f06-befc-79244868af5b",
   "metadata": {},
   "outputs": [],
   "source": [
    "# while condition:\n",
    "    #statements"
   ]
  },
  {
   "cell_type": "code",
   "execution_count": null,
   "id": "4d204a8c-637e-419e-9225-889c1d05449b",
   "metadata": {},
   "outputs": [],
   "source": [
    "count = 1\n",
    "while count <=5 :\n",
    "    print (\"Hello\")\n",
    "    count += 1\n",
    "print(count)  "
   ]
  },
  {
   "cell_type": "code",
   "execution_count": null,
   "id": "07c91b63-0306-457a-9a70-7201e9144307",
   "metadata": {},
   "outputs": [],
   "source": [
    "i = 1\n",
    "while i <=5:\n",
    "    print(\"Bishwas\")\n",
    "    i+= 1"
   ]
  },
  {
   "cell_type": "code",
   "execution_count": null,
   "id": "93247208-13ac-4f1a-af68-ed0c9d0d203f",
   "metadata": {},
   "outputs": [],
   "source": []
  }
 ],
 "metadata": {
  "kernelspec": {
   "display_name": "Python 3 (ipykernel)",
   "language": "python",
   "name": "python3"
  },
  "language_info": {
   "codemirror_mode": {
    "name": "ipython",
    "version": 3
   },
   "file_extension": ".py",
   "mimetype": "text/x-python",
   "name": "python",
   "nbconvert_exporter": "python",
   "pygments_lexer": "ipython3",
   "version": "3.11.7"
  }
 },
 "nbformat": 4,
 "nbformat_minor": 5
}
